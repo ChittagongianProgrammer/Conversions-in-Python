{
 "cells": [
  {
   "cell_type": "code",
   "execution_count": 3,
   "metadata": {},
   "outputs": [
    {
     "name": "stdout",
     "output_type": "stream",
     "text": [
      "Invalid choice. Please enter 'C' or 'F' only.\n"
     ]
    }
   ],
   "source": [
    "def celsius_to_fahrenheit(c_temp):\n",
    "  return c_temp * 9/5 + 32\n",
    "\n",
    "def fahrenheit_to_celsius(f_temp):\n",
    "  return (f_temp - 32) * 5/9\n",
    "\n",
    "choice = input(\"Choose 'C' to convert Celsius to Fahrenheit, or 'F' for Fahrenheit to Celsius: \")\n",
    "\n",
    "if choice == 'C' or choice == 'c':\n",
    "  c_temp = float(input(\"Enter the temperature in Celsius: \"))\n",
    "  f_temp = celsius_to_fahrenheit(c_temp)\n",
    "  print(f\"{c_temp} degrees Celsius is equal to {round(f_temp, 2)} degrees Fahrenheit.\")\n",
    "  \n",
    "elif choice == 'F' or choice == 'f':\n",
    "  f_temp = float(input(\"Enter the temperature in Celsius: \"))  \n",
    "  c_temp = fahrenheit_to_celsius(f_temp)\n",
    "  print(f\"{f_temp} degrees Fahrenheit is equal to {round(c_temp, 2)} degrees Celsius.\")\n",
    "\n",
    "else:\n",
    "  print(\"Invalid choice. Please enter 'C' or 'F' only.\")"
   ]
  }
 ],
 "metadata": {
  "kernelspec": {
   "display_name": "Python 3",
   "language": "python",
   "name": "python3"
  },
  "language_info": {
   "codemirror_mode": {
    "name": "ipython",
    "version": 3
   },
   "file_extension": ".py",
   "mimetype": "text/x-python",
   "name": "python",
   "nbconvert_exporter": "python",
   "pygments_lexer": "ipython3",
   "version": "3.11.7"
  }
 },
 "nbformat": 4,
 "nbformat_minor": 1
}
