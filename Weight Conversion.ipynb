{
 "cells": [
  {
   "cell_type": "markdown",
   "metadata": {},
   "source": [
    "Weight Converter"
   ]
  },
  {
   "cell_type": "code",
   "execution_count": 7,
   "metadata": {},
   "outputs": [
    {
     "name": "stdout",
     "output_type": "stream",
     "text": [
      "Your weight is: 121.28 Lbs.\n"
     ]
    }
   ],
   "source": [
    "unit = input(\"Do you want to measure in Kilograms or Pounds? (Kilos or Pounds): \")\n",
    "weight = float(input(\"What is your weight?: \"))\n",
    "\n",
    "if unit == \"Pounds\":\n",
    "    weight = weight / 2.205\n",
    "    unit = \"Kg\"\n",
    "    print(f\"Your weight is: {round(weight,2)} {unit}.\")\n",
    "elif unit == \"Kilos\":\n",
    "    weight = weight * 2.205\n",
    "    unit = \"Lbs\" \n",
    "    print(f\"Your weight is: {round(weight,2)} {unit}.\")\n",
    "else:\n",
    "    print(f\"{unit} isn't valid.\")\n",
    "\n"
   ]
  }
 ],
 "metadata": {
  "kernelspec": {
   "display_name": "Python 3",
   "language": "python",
   "name": "python3"
  },
  "language_info": {
   "codemirror_mode": {
    "name": "ipython",
    "version": 3
   },
   "file_extension": ".py",
   "mimetype": "text/x-python",
   "name": "python",
   "nbconvert_exporter": "python",
   "pygments_lexer": "ipython3",
   "version": "3.11.7"
  }
 },
 "nbformat": 4,
 "nbformat_minor": 2
}
